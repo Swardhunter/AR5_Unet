{
 "cells": [
  {
   "cell_type": "code",
   "execution_count": 1,
   "metadata": {},
   "outputs": [],
   "source": [
    "from pytorch_lightning import LightningModule,Trainer\n",
    "import torch \n",
    "from torch.utils.data import DataLoader,Dataset\n",
    "from osgeo import gdal, ogr ,gdal_array\n",
    "from Functions import UNetLightning, Callback,CustomDataset, Prediction, PreProcessing_RGB_Raster\n",
    "import ssl \n",
    "import os \n",
    "import numpy as np\n",
    "ssl._create_default_https_context = ssl._create_unverified_context\n",
    "torch.set_float32_matmul_precision('medium')\n",
    "import glob\n",
    "import shutil\n",
    "os.environ[\"CUDA_VISIBLE_DEVICES\"] = \"1,2\"\n",
    "\n"
   ]
  },
  {
   "cell_type": "code",
   "execution_count": null,
   "metadata": {},
   "outputs": [],
   "source": [
    "R1 = glob.glob(rf'/home/mskenawi/Mahmoud_Saber_Kenawi/New folder/*.tif')\n",
    "OP_D = 'Braskereidfoss_T2'\n",
    "print(len(R1))\n",
    "for i in R1: \n",
    "    Prediction(i,\n",
    "               rf'/home/mskenawi/Mahmoud_Saber_Kenawi/CNN/Code/tb_logsv2/vgg_19bn_18102023/version_2/checkpoints/epoch=49-step=35500.ckpt',\n",
    "               rf'/home/mskenawi/{OP_D}')\n",
    "\n",
    "\n",
    "R2 = glob.glob(rf'/home/mskenawi/{OP_D}/*.tif')\n",
    "\n",
    "gdal.BuildVRT(rf'{OP_D}.vrt', R2)\n",
    "options = [\"COMPRESS=LZW\"]\n",
    "mosaic_ds = gdal.Translate(rf'/home/mskenawi/{OP_D}.tif',rf'{OP_D}.vrt',creationOptions=options)\n",
    "# Close the datasets\n",
    "mosaic_ds = None\n"
   ]
  }
 ],
 "metadata": {
  "kernelspec": {
   "display_name": "Python 3",
   "language": "python",
   "name": "python3"
  },
  "language_info": {
   "codemirror_mode": {
    "name": "ipython",
    "version": 3
   },
   "file_extension": ".py",
   "mimetype": "text/x-python",
   "name": "python",
   "nbconvert_exporter": "python",
   "pygments_lexer": "ipython3",
   "version": "3.8.10"
  },
  "orig_nbformat": 4
 },
 "nbformat": 4,
 "nbformat_minor": 2
}
