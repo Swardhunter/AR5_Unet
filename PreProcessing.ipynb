{
 "cells": [
  {
   "cell_type": "code",
   "execution_count": 1,
   "metadata": {},
   "outputs": [],
   "source": [
    "from pytorch_lightning import LightningModule,Trainer\n",
    "import torch \n",
    "from torch.utils.data import DataLoader,Dataset\n",
    "from osgeo import gdal, ogr ,gdal_array\n",
    "from Functions import UNetLightning, Callback,CustomDataset, Prediction, PreProcessing_RGB_Raster\n",
    "import ssl \n",
    "import os \n",
    "import numpy as np\n",
    "ssl._create_default_https_context = ssl._create_unverified_context\n",
    "torch.set_float32_matmul_precision('medium')\n",
    "import glob\n",
    "import shutil\n",
    "os.environ[\"CUDA_VISIBLE_DEVICES\"] = \"1,2\"\n",
    "\n"
   ]
  },
  {
   "cell_type": "code",
   "execution_count": null,
   "metadata": {},
   "outputs": [],
   "source": [
    "import Functions\n",
    "import glob\n",
    "from multiprocessing import Pool\n",
    "from joblib import Parallel, delayed\n",
    "\n",
    "if __name__ == '__main__':\n",
    "    R1 = glob.glob(rf'/home/mskenawi/Mahmoud_Saber_Kenawi/T1/Andstadblaheia-before//*.tif')\n",
    "    label = rf'/home/mskenawi/Mahmoud_Saber_Kenawi/TD_CORRECTED/Andstadblaheia_T1.tif'\n",
    "    print(len(R1))  # Number of rasters found\n",
    "    # Use joblib's Parallel and delayed functions\n",
    "    Parallel(n_jobs=4)(delayed(PreProcessing_RGB_Raster)(filename, label) for filename in R1)"
   ]
  }
 ],
 "metadata": {
  "kernelspec": {
   "display_name": "Python 3",
   "language": "python",
   "name": "python3"
  },
  "language_info": {
   "codemirror_mode": {
    "name": "ipython",
    "version": 3
   },
   "file_extension": ".py",
   "mimetype": "text/x-python",
   "name": "python",
   "nbconvert_exporter": "python",
   "pygments_lexer": "ipython3",
   "version": "3.8.10"
  },
  "orig_nbformat": 4
 },
 "nbformat": 4,
 "nbformat_minor": 2
}
